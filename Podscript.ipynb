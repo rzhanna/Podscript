{
 "cells": [
  {
   "cell_type": "markdown",
   "metadata": {},
   "source": [
    "I) Do Prototype\n",
    "\n",
    "- Provide Link to MP3 \n",
    "- Bring file in-house\n",
    "- Perhaps convert it into the necessairry file format\n",
    "- Use API’s across different mediums to get sample transcripts\n",
    "\n",
    "- ??? how to finalize on the final format:\n",
    "— Ideally, it would separate into the two (or more speakers)\n",
    "<In the middle of this, it woulld be great if i could pull out the areas of dissimilarity, play it, and have a human correct it, and have the machine learn in response to that. \n",
    "\n",
    "— If it works great/enough, then I could also add to the bottom a “keywords” output… basically, sort all the words mentioned across \n",
    "\n",
    "Classificaiton:\n",
    "1 - the host\n",
    "0 - Guest\n",
    "\n",
    "2) Get \n",
    "\n",
    "\n",
    "II) Make it scalable/ increase features\n",
    "\n",
    "- Can I download MP3’s across websites\n",
    "- What if you don’t provide an MP3?\n",
    "\n",
    "\n",
    "http://stackoverflow.com/questions/2815076/is-there-a-speech-to-text-api-or-some-hack-by-which-i-can-use-googles-speech\n",
    "\n",
    "https://developers.google.com/youtube/2.0/developers_guide_protocol_captions?hl=en\n",
    "https://developers.google.com/youtube/v3/\n",
    "http://mikepultz.com/2011/03/accessing-google-speech-api-chrome-11/"
   ]
  },
  {
   "cell_type": "code",
   "execution_count": null,
   "metadata": {
    "collapsed": true
   },
   "outputs": [],
   "source": [
    "file = open"
   ]
  }
 ],
 "metadata": {
  "kernelspec": {
   "display_name": "Python 2",
   "language": "python",
   "name": "python2"
  },
  "language_info": {
   "codemirror_mode": {
    "name": "ipython",
    "version": 2
   },
   "file_extension": ".py",
   "mimetype": "text/x-python",
   "name": "python",
   "nbconvert_exporter": "python",
   "pygments_lexer": "ipython2",
   "version": "2.7.10"
  }
 },
 "nbformat": 4,
 "nbformat_minor": 0
}
